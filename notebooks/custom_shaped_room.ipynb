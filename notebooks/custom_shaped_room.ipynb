{
 "cells": [
  {
   "cell_type": "code",
   "execution_count": 439,
   "metadata": {},
   "outputs": [],
   "source": [
    "\"\"\"\n",
    "In this example, we construct a 3D room. We extrude a 3D room from the floor\n",
    "with a given height. Then, we place two sources and microphone (-array)\n",
    "in the room and compute the room impulse response. The simulation is done using the hybrid ISM/RT simulator.\n",
    "Using this response, we can either process a WAV file and simulate how soundwaves\n",
    "will propagate in the room, or we can process a unit step signal and save it as WAV file.\n",
    "Such output file can be later analysed further. We have used Room EQ Wizard (REW)'s\n",
    "\"Import impulse response\" functionality to calculate frequency response as well as waterfall\n",
    "and spectral delay.\n",
    "\n",
    "I have used this example to model room shape, more complex than shoebox. I have played around with\n",
    "absorption materials on different walls to find out:\n",
    "(1) which absorption materials are more/less effective for this room\n",
    "(2) which walls should be treated to give best effect\n",
    "\n",
    "As a result, I found out that:\n",
    " - empty room response is very bad, there's a long flutter echo (as expected)\n",
    " - if I consider placing absorbers on one wall only, it should be front wall (behind speakers)\n",
    " - if I add absorption to either side walls or ceiling, it only slightly reduces reverbation time and roughness\n",
    "   of frequency response curve\n",
    " - having absorption on four walls (front, sides, ceiling) dramatically improves both audible effects and frequency\n",
    "   response/spectral delay\n",
    " - additional absorption on back wall would reduct reverbation of the room almost completely. This is something\n",
    "   i can't have in my room (as back wall is part of Kitchen/Living room), so it was great to be able to at least\n",
    "   simulate it and hear it\n",
    "   \n",
    "In end effect, I have decided to use:\n",
    " - rockwool absorbers on the ceiling and side walls\n",
    " - a lot of big diaphragmatic bass traps on the front wall or in front corners (i'm considering a pair of corner-mounted\n",
    " Primacoustic MaxTraps as well as pair of FullTraps behind speakers), with some additional, thin rockwool absorbers for\n",
    " further treatment of remaining places on front wall\n",
    " \n",
    "I'm pretty eager to hear the real results - sadly, for this i need to wait several weeks, to get everything delivered.\n",
    "I feel great that I could use computer simulation to support my decision. The result is, basically, consistent with\n",
    "\"live-end, dead-end\" methodology, which is widely adopted. In my case, there's no back room of the studio - there is\n",
    "whole kitchen/living room, as it's one open space. Let's see how it behaves :)\n",
    "\"\"\"\n",
    "from __future__ import print_function\n",
    "\n",
    "import time\n",
    "\n",
    "import matplotlib.pyplot as plt\n",
    "import numpy as np\n",
    "import scipy as sp\n",
    "from scipy.io import wavfile\n",
    "\n",
    "import pyroomacoustics as pra"
   ]
  },
  {
   "cell_type": "code",
   "execution_count": 432,
   "metadata": {},
   "outputs": [
    {
     "data": {
      "text/plain": [
       "<pyroomacoustics.room.Room at 0x1327a4c88>"
      ]
     },
     "execution_count": 432,
     "metadata": {},
     "output_type": "execute_result"
    }
   ],
   "source": [
    "### Create the 2D room from the floor polygon - units are meters\n",
    "pol = np.array([\n",
    "    [0,      0], \n",
    "    [2.98,   0], \n",
    "    [2.98,   2.26], \n",
    "    [7.2,    2.26], \n",
    "    [7.2,    6.05],\n",
    "    [7.2,    7.31], \n",
    "    [5.01,   7.31],\n",
    "    [5.01,   6.05],\n",
    "    [2.55,   6.05],\n",
    "    [2.55,   7.31],\n",
    "    [0,      7.31],\n",
    "    [0,      6.05],\n",
    "    [0,      2.26],\n",
    "]).T\n",
    "\n",
    "source_points = [\n",
    "    [0.82, 0.7, 1.4],\n",
    "    [2.16, 0.7, 1.4],\n",
    "]\n",
    "\n",
    "listener_point = [1.49, 1.55, 1.40]\n",
    "\n",
    "height = 2.477\n",
    "\n",
    "output_filename=\"de-r1_fr_se_ce_2src.wav\"\n",
    "\n",
    "materials = {\n",
    "    'front': 'rockwool_50mm_80kgm3',\n",
    "    'sides': 'hard_surface',\n",
    "    'back': 'hard_surface',\n",
    "    'floor': 'wood_16mm',\n",
    "    'ceiling': 'rockwool_50mm_80kgm3'\n",
    "}\n",
    "\n",
    "# rockwool_50mm_80kgm3 hard_surface plasterboard wood_16mm ceiling_melamine_foam\n",
    "\n",
    "# Materials for side walls\n",
    "mat = sum([\n",
    "    pra.make_materials(materials['front']),  # Front\n",
    "    pra.make_materials(materials['sides']),  # Side      \n",
    "    pra.make_materials(\"hard_surface\"),\n",
    "    pra.make_materials(\"plasterboard\"),\n",
    "    pra.make_materials(\"glass_window\"),\n",
    "    pra.make_materials(\"hard_surface\"),\n",
    "    pra.make_materials(\"glass_window\"),\n",
    "    pra.make_materials(\"glass_window\"),\n",
    "    pra.make_materials(\"hard_surface\"),\n",
    "    pra.make_materials(\"hard_surface\"),\n",
    "    pra.make_materials(\"hard_surface\"),\n",
    "    pra.make_materials(\"hard_surface\"),\n",
    "    pra.make_materials(materials['sides']),  # Side\n",
    "], [])\n",
    "\n",
    "# Create 2D room\n",
    "room = pra.Room.from_corners(\n",
    "    pol,\n",
    "    fs=16000,\n",
    "    materials=mat,\n",
    "    max_order=3,\n",
    "    ray_tracing=True,\n",
    "    air_absorption=True,\n",
    ")\n",
    "\n",
    "# Create the 3D room by extruding the 2D by height\n",
    "xmat = {\n",
    "    'floor':   pra.make_materials(materials['floor'])[0],\n",
    "    'ceiling': pra.make_materials(materials['ceiling'])[0],\n",
    "}\n",
    "room.extrude(height, materials=xmat)\n",
    "\n",
    "# Add source(s) somewhere in the room\n",
    "fs, audio_anechoic = wavfile.read(\"german_speech_8000.wav\") # Read and process specific audio recording, for rehearsal\n",
    "#audio_anechoic = sp.signal.unit_impulse(16000) # Use unit impulse function, for analysis with REW or other tools\n",
    "for srp in source_points:\n",
    "    room.add_source(srp, signal=audio_anechoic)\n",
    "\n",
    "# Add a microphone\n",
    "room.add_microphone(listener_point)"
   ]
  },
  {
   "cell_type": "code",
   "execution_count": 425,
   "metadata": {},
   "outputs": [
    {
     "name": "stdout",
     "output_type": "stream",
     "text": [
      "RIR computation done in 2655.8643078804016 seconds.\n",
      "RT60: 9.8876875\n"
     ]
    }
   ],
   "source": [
    "# Compute the RIR using 'hybrid' method\n",
    "room.set_ray_tracing(receiver_radius=0.5)\n",
    "chrono = time.time()\n",
    "room.compute_rir()\n",
    "print(\"RIR computation done in\", time.time() - chrono, \"seconds.\")\n",
    "print(\"RT60:\", room.measure_rt60()[0, 0])\n",
    "#room.plot_rir()\n",
    "#plt.show()"
   ]
  },
  {
   "cell_type": "code",
   "execution_count": 426,
   "metadata": {},
   "outputs": [
    {
     "name": "stdout",
     "output_type": "stream",
     "text": [
      "Room simulation done in 0.1711580753326416 seconds.\n",
      "Audio processing done in 0.005856990814208984 seconds, output:  de-r1_fr_se_ce_2src.wav\n"
     ]
    }
   ],
   "source": [
    "# Simulate room response, based on RIR\n",
    "chrono = time.time()\n",
    "room.simulate()\n",
    "print(\"Room simulation done in\", time.time() - chrono, \"seconds.\")\n",
    "chrono = time.time()\n",
    "audio_reverb = room.mic_array.to_wav(output_filename, norm=True, bitdepth=np.int16)\n",
    "print(\"Audio processing done in\", time.time() - chrono, \"seconds, output:\", output_filename)"
   ]
  },
  {
   "cell_type": "code",
   "execution_count": 428,
   "metadata": {},
   "outputs": [
    {
     "data": {
      "text/plain": [
       "[<matplotlib.lines.Line2D at 0x13217ef60>]"
      ]
     },
     "execution_count": 428,
     "metadata": {},
     "output_type": "execute_result"
    },
    {
     "data": {
      "image/png": "[encoded data removed]",
      "text/plain": [
       "<Figure size 432x288 with 1 Axes>"
      ]
     },
     "metadata": {
      "needs_background": "light"
     },
     "output_type": "display_data"
    }
   ],
   "source": [
    "# Visualise room shape and sources/microphones\n",
    "prev=[0, 0]\n",
    "for p in pol.T[1:]:\n",
    "    plt.plot([prev[0],p[0]],[prev[1],p[1]])\n",
    "    prev=p\n",
    "plt.plot([prev[0],0],[prev[1],0])\n",
    "\n",
    "for srp in source_points:\n",
    "    plt.plot(srp[0], srp[1], \"ro\")\n",
    "plt.plot(listener_point[0], listener_point[1], \"g+\")"
   ]
  },
  {
   "cell_type": "code",
   "execution_count": null,
   "metadata": {},
   "outputs": [],
   "source": []
  },
  {
   "cell_type": "code",
   "execution_count": null,
   "metadata": {},
   "outputs": [],
   "source": []
  }
 ],
 "metadata": {
  "kernelspec": {
   "display_name": "Python 3",
   "language": "python",
   "name": "python3"
  },
  "language_info": {
   "codemirror_mode": {
    "name": "ipython",
    "version": 3
   },
   "file_extension": ".py",
   "mimetype": "text/x-python",
   "name": "python",
   "nbconvert_exporter": "python",
   "pygments_lexer": "ipython3",
   "version": "3.6.4"
  }
 },
 "nbformat": 4,
 "nbformat_minor": 4
}
